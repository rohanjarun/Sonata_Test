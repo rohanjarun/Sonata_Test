{
 "cells": [
  {
   "cell_type": "code",
   "execution_count": 1,
   "id": "083f06f7",
   "metadata": {},
   "outputs": [],
   "source": [
    "import numpy as np\n",
    "import pandas as pd\n",
    "import matplotlib.pyplot as plt\n",
    "import seaborn as sns\n",
    "\n",
    "import os\n",
    "for dirname, _, filenames in os.walk('/kaggle/input'):\n",
    "    for filename in filenames:\n",
    "        print(os.path.join(dirname, filename))\n",
    "# Create a list of the CSV files to merge\n",
    "csv_files = [\"Contacts.csv\", \"Loyalty Customers.csv\"]\n",
    "\n",
    "# Create an empty DataFrame\n",
    "df = pd.DataFrame()\n",
    "\n",
    "# Iterate over the list of CSV files\n",
    "for csv_file in csv_files:\n",
    "\n",
    "    # Read the CSV file and append it to the DataFrame\n",
    "    df = df.append(pd.read_csv(csv_file))\n",
    "\n",
    "# Write the merged DataFrame to a new CSV file\n",
    "df.to_csv(\"merged_files.csv\")"
   ]
  },
  {
   "cell_type": "code",
   "execution_count": 4,
   "id": "7f3454e4",
   "metadata": {},
   "outputs": [],
   "source": [
    "import pandas as pd\n",
    "\n",
    "csv_files = [\"Contacts.csv\", \"Loyalty Customers.csv\"]\n",
    "\n",
    "df = pd.DataFrame()\n",
    "\n",
    "for csv_file in csv_files:\n",
    "    df_temp = pd.read_csv(csv_file)\n",
    "    df = df.append(df_temp)\n",
    "\n",
    "df.to_csv(\"merged_csv.csv\")"
   ]
  },
  {
   "cell_type": "code",
   "execution_count": 5,
   "id": "c16c65d4",
   "metadata": {},
   "outputs": [],
   "source": [
    "data=pd.read_csv(\"/Users/rohan/Downloads/OneDrive_1_7-4-2023/Loyalty Customers.csv\")"
   ]
  },
  {
   "cell_type": "code",
   "execution_count": 6,
   "id": "cb9fab41",
   "metadata": {},
   "outputs": [],
   "source": [
    "data1=pd.read_csv(\"/Users/rohan/Downloads/OneDrive_1_7-4-2023/Contacts.csv\")"
   ]
  },
  {
   "cell_type": "code",
   "execution_count": 7,
   "id": "8b4da1b6",
   "metadata": {},
   "outputs": [
    {
     "data": {
      "text/html": [
       "<div>\n",
       "<style scoped>\n",
       "    .dataframe tbody tr th:only-of-type {\n",
       "        vertical-align: middle;\n",
       "    }\n",
       "\n",
       "    .dataframe tbody tr th {\n",
       "        vertical-align: top;\n",
       "    }\n",
       "\n",
       "    .dataframe thead th {\n",
       "        text-align: right;\n",
       "    }\n",
       "</style>\n",
       "<table border=\"1\" class=\"dataframe\">\n",
       "  <thead>\n",
       "    <tr style=\"text-align: right;\">\n",
       "      <th></th>\n",
       "      <th>LoyaltyId</th>\n",
       "      <th>ContactId</th>\n",
       "      <th>FirstName</th>\n",
       "      <th>LastName</th>\n",
       "      <th>FullName</th>\n",
       "      <th>DateOfBirth</th>\n",
       "      <th>Gender</th>\n",
       "      <th>EMail</th>\n",
       "      <th>Telephone</th>\n",
       "      <th>RewardPoints</th>\n",
       "      <th>CreditCard</th>\n",
       "      <th>CreatedOn</th>\n",
       "    </tr>\n",
       "  </thead>\n",
       "  <tbody>\n",
       "    <tr>\n",
       "      <th>0</th>\n",
       "      <td>LOYID_1000</td>\n",
       "      <td>CNTID_1000</td>\n",
       "      <td>Abbie</td>\n",
       "      <td>Moss</td>\n",
       "      <td>Moss Abbie</td>\n",
       "      <td>08-05-2018</td>\n",
       "      <td>Male</td>\n",
       "      <td>abbie_moss@collinsreedandhoward.com</td>\n",
       "      <td>983.566.0706x9509</td>\n",
       "      <td>293</td>\n",
       "      <td>Yes</td>\n",
       "      <td>19-10-2018</td>\n",
       "    </tr>\n",
       "    <tr>\n",
       "      <th>1</th>\n",
       "      <td>LOYID_1001</td>\n",
       "      <td>CNTID_1001</td>\n",
       "      <td>Kenneth</td>\n",
       "      <td>Beraun</td>\n",
       "      <td>Kenneth Beraun</td>\n",
       "      <td>01-08-1974</td>\n",
       "      <td>Male</td>\n",
       "      <td>kenneth_beraun@kimboyle.com</td>\n",
       "      <td>384.995.7852</td>\n",
       "      <td>248</td>\n",
       "      <td>No</td>\n",
       "      <td>23-01-2017</td>\n",
       "    </tr>\n",
       "    <tr>\n",
       "      <th>2</th>\n",
       "      <td>LOYID_1002</td>\n",
       "      <td>CNTID_1002</td>\n",
       "      <td>Anthony</td>\n",
       "      <td>Koteles</td>\n",
       "      <td>Anthony Koteles</td>\n",
       "      <td>28-08-1975</td>\n",
       "      <td>Male</td>\n",
       "      <td>anthony_koteles@crawfordsimmonsandgreene.com</td>\n",
       "      <td>-6854</td>\n",
       "      <td>154</td>\n",
       "      <td>No</td>\n",
       "      <td>13-08-2018</td>\n",
       "    </tr>\n",
       "    <tr>\n",
       "      <th>3</th>\n",
       "      <td>LOYID_1003</td>\n",
       "      <td>CNTID_1003</td>\n",
       "      <td>Michael</td>\n",
       "      <td>Lauser</td>\n",
       "      <td>Michael Lauser</td>\n",
       "      <td>03-09-2006</td>\n",
       "      <td>Male</td>\n",
       "      <td>michael_lauser@smithinc.com</td>\n",
       "      <td>001-811-506-2553x442</td>\n",
       "      <td>116</td>\n",
       "      <td>No</td>\n",
       "      <td>03-07-2017</td>\n",
       "    </tr>\n",
       "    <tr>\n",
       "      <th>4</th>\n",
       "      <td>LOYID_1004</td>\n",
       "      <td>CNTID_1004</td>\n",
       "      <td>Richard</td>\n",
       "      <td>Nakada</td>\n",
       "      <td>Richard Nakada</td>\n",
       "      <td>30-07-1997</td>\n",
       "      <td>Male</td>\n",
       "      <td>richard_nakada@jonesholmesandmooney.com</td>\n",
       "      <td>857-147-6531</td>\n",
       "      <td>249</td>\n",
       "      <td>No</td>\n",
       "      <td>13-10-2017</td>\n",
       "    </tr>\n",
       "  </tbody>\n",
       "</table>\n",
       "</div>"
      ],
      "text/plain": [
       "    LoyaltyId   ContactId FirstName LastName         FullName DateOfBirth  \\\n",
       "0  LOYID_1000  CNTID_1000     Abbie     Moss       Moss Abbie  08-05-2018   \n",
       "1  LOYID_1001  CNTID_1001   Kenneth   Beraun   Kenneth Beraun  01-08-1974   \n",
       "2  LOYID_1002  CNTID_1002   Anthony  Koteles  Anthony Koteles  28-08-1975   \n",
       "3  LOYID_1003  CNTID_1003   Michael   Lauser   Michael Lauser  03-09-2006   \n",
       "4  LOYID_1004  CNTID_1004   Richard   Nakada   Richard Nakada  30-07-1997   \n",
       "\n",
       "  Gender                                         EMail             Telephone  \\\n",
       "0   Male           abbie_moss@collinsreedandhoward.com     983.566.0706x9509   \n",
       "1   Male                   kenneth_beraun@kimboyle.com          384.995.7852   \n",
       "2   Male  anthony_koteles@crawfordsimmonsandgreene.com                 -6854   \n",
       "3   Male                   michael_lauser@smithinc.com  001-811-506-2553x442   \n",
       "4   Male       richard_nakada@jonesholmesandmooney.com          857-147-6531   \n",
       "\n",
       "   RewardPoints CreditCard   CreatedOn  \n",
       "0           293        Yes  19-10-2018  \n",
       "1           248         No  23-01-2017  \n",
       "2           154         No  13-08-2018  \n",
       "3           116         No  03-07-2017  \n",
       "4           249         No  13-10-2017  "
      ]
     },
     "execution_count": 7,
     "metadata": {},
     "output_type": "execute_result"
    }
   ],
   "source": [
    "data.head()"
   ]
  },
  {
   "cell_type": "code",
   "execution_count": 8,
   "id": "0dd8ea80",
   "metadata": {},
   "outputs": [
    {
     "data": {
      "text/html": [
       "<div>\n",
       "<style scoped>\n",
       "    .dataframe tbody tr th:only-of-type {\n",
       "        vertical-align: middle;\n",
       "    }\n",
       "\n",
       "    .dataframe tbody tr th {\n",
       "        vertical-align: top;\n",
       "    }\n",
       "\n",
       "    .dataframe thead th {\n",
       "        text-align: right;\n",
       "    }\n",
       "</style>\n",
       "<table border=\"1\" class=\"dataframe\">\n",
       "  <thead>\n",
       "    <tr style=\"text-align: right;\">\n",
       "      <th></th>\n",
       "      <th>ContactId</th>\n",
       "      <th>FirstName</th>\n",
       "      <th>LastName</th>\n",
       "      <th>FullName</th>\n",
       "      <th>DateOfBirth</th>\n",
       "      <th>Gender</th>\n",
       "      <th>EMail</th>\n",
       "      <th>Telephone</th>\n",
       "      <th>PostCode</th>\n",
       "      <th>StreetAddress</th>\n",
       "      <th>City</th>\n",
       "      <th>State</th>\n",
       "      <th>Country</th>\n",
       "      <th>CreatedOn</th>\n",
       "      <th>Headshot</th>\n",
       "      <th>Loyalty Tier</th>\n",
       "      <th>Email Subscriber</th>\n",
       "      <th>Income</th>\n",
       "      <th>Occupation</th>\n",
       "      <th>CustomerSatisfaction</th>\n",
       "    </tr>\n",
       "  </thead>\n",
       "  <tbody>\n",
       "    <tr>\n",
       "      <th>0</th>\n",
       "      <td>CNTID_1000</td>\n",
       "      <td>Abbie</td>\n",
       "      <td>Moss</td>\n",
       "      <td>Abbie Moss</td>\n",
       "      <td>05-08-1986</td>\n",
       "      <td>Female</td>\n",
       "      <td>abbie_moss@collinsreedandhoward.com</td>\n",
       "      <td>983.566.0706x9509</td>\n",
       "      <td>10753</td>\n",
       "      <td>129 Miller Plaza</td>\n",
       "      <td>Fairfield</td>\n",
       "      <td>California</td>\n",
       "      <td>USA</td>\n",
       "      <td>3/14/2017</td>\n",
       "      <td>https://filestransfer.blob.core.windows.net/de...</td>\n",
       "      <td>high</td>\n",
       "      <td>Yes</td>\n",
       "      <td>256414.11270</td>\n",
       "      <td>Software Engineer</td>\n",
       "      <td>high</td>\n",
       "    </tr>\n",
       "    <tr>\n",
       "      <th>1</th>\n",
       "      <td>CNTID_1001</td>\n",
       "      <td>Kenneth</td>\n",
       "      <td>Beraun</td>\n",
       "      <td>Beraun Kenneth</td>\n",
       "      <td>08-01-1974</td>\n",
       "      <td>Male</td>\n",
       "      <td>kenneth_beraun@kimboyle.com</td>\n",
       "      <td>384.995.7852</td>\n",
       "      <td>40482</td>\n",
       "      <td>9720 William Prairie</td>\n",
       "      <td>Amarillo</td>\n",
       "      <td>Texas</td>\n",
       "      <td>USA</td>\n",
       "      <td>12/23/2018</td>\n",
       "      <td>https://filestransfer.blob.core.windows.net/de...</td>\n",
       "      <td>medium</td>\n",
       "      <td>Yes</td>\n",
       "      <td>46732.46729</td>\n",
       "      <td>Teacher</td>\n",
       "      <td>high</td>\n",
       "    </tr>\n",
       "    <tr>\n",
       "      <th>2</th>\n",
       "      <td>CNTID_1002</td>\n",
       "      <td>Anthony</td>\n",
       "      <td>Koteles</td>\n",
       "      <td>Acthony Koteles</td>\n",
       "      <td>8/28/1975</td>\n",
       "      <td>Male</td>\n",
       "      <td>anthony_koteles@crawfordsimmonsandgreene.com</td>\n",
       "      <td>569-626-5660</td>\n",
       "      <td>28679</td>\n",
       "      <td>3958 Perez Centers Suite 216</td>\n",
       "      <td>Inglewood</td>\n",
       "      <td>California</td>\n",
       "      <td>USA</td>\n",
       "      <td>1/14/2019</td>\n",
       "      <td>https://filestransfer.blob.core.windows.net/de...</td>\n",
       "      <td>medium</td>\n",
       "      <td>Yes</td>\n",
       "      <td>20000.00000</td>\n",
       "      <td>Teacher</td>\n",
       "      <td>high</td>\n",
       "    </tr>\n",
       "    <tr>\n",
       "      <th>3</th>\n",
       "      <td>CNTID_1003</td>\n",
       "      <td>Michael</td>\n",
       "      <td>Lauser</td>\n",
       "      <td>Michael Lauser</td>\n",
       "      <td>09-03-2006</td>\n",
       "      <td>Male</td>\n",
       "      <td>michael_lauser@smithinc.com</td>\n",
       "      <td>001-811-506-2553x442</td>\n",
       "      <td>93991</td>\n",
       "      <td>15091 Haynes Neck</td>\n",
       "      <td>Nashville</td>\n",
       "      <td>Tennessee</td>\n",
       "      <td>USA</td>\n",
       "      <td>1/17/2019</td>\n",
       "      <td>https://filestransfer.blob.core.windows.net/de...</td>\n",
       "      <td>medium</td>\n",
       "      <td>No</td>\n",
       "      <td>61917.70614</td>\n",
       "      <td>Teacher</td>\n",
       "      <td>medium</td>\n",
       "    </tr>\n",
       "    <tr>\n",
       "      <th>4</th>\n",
       "      <td>CNTID_1004</td>\n",
       "      <td>Richard</td>\n",
       "      <td>Nakada</td>\n",
       "      <td>Nakada Richard</td>\n",
       "      <td>7/30/1997</td>\n",
       "      <td>Male</td>\n",
       "      <td>richard_nakada@jonesholmesandmooney.com</td>\n",
       "      <td>857-147-6531</td>\n",
       "      <td>78389</td>\n",
       "      <td>3501 Thornton Radial</td>\n",
       "      <td>West Covina</td>\n",
       "      <td>California</td>\n",
       "      <td>USA</td>\n",
       "      <td>1/20/2019</td>\n",
       "      <td>https://filestransfer.blob.core.windows.net/de...</td>\n",
       "      <td>medium</td>\n",
       "      <td>No</td>\n",
       "      <td>20000.00000</td>\n",
       "      <td>Teacher</td>\n",
       "      <td>medium</td>\n",
       "    </tr>\n",
       "  </tbody>\n",
       "</table>\n",
       "</div>"
      ],
      "text/plain": [
       "    ContactId FirstName LastName         FullName DateOfBirth  Gender  \\\n",
       "0  CNTID_1000     Abbie     Moss       Abbie Moss  05-08-1986  Female   \n",
       "1  CNTID_1001   Kenneth   Beraun   Beraun Kenneth  08-01-1974    Male   \n",
       "2  CNTID_1002   Anthony  Koteles  Acthony Koteles   8/28/1975    Male   \n",
       "3  CNTID_1003   Michael   Lauser   Michael Lauser  09-03-2006    Male   \n",
       "4  CNTID_1004   Richard   Nakada   Nakada Richard   7/30/1997    Male   \n",
       "\n",
       "                                          EMail             Telephone  \\\n",
       "0           abbie_moss@collinsreedandhoward.com     983.566.0706x9509   \n",
       "1                   kenneth_beraun@kimboyle.com          384.995.7852   \n",
       "2  anthony_koteles@crawfordsimmonsandgreene.com          569-626-5660   \n",
       "3                   michael_lauser@smithinc.com  001-811-506-2553x442   \n",
       "4       richard_nakada@jonesholmesandmooney.com          857-147-6531   \n",
       "\n",
       "  PostCode                 StreetAddress         City       State Country  \\\n",
       "0    10753              129 Miller Plaza    Fairfield  California     USA   \n",
       "1    40482          9720 William Prairie     Amarillo       Texas     USA   \n",
       "2    28679  3958 Perez Centers Suite 216    Inglewood  California     USA   \n",
       "3    93991             15091 Haynes Neck    Nashville   Tennessee     USA   \n",
       "4    78389          3501 Thornton Radial  West Covina  California     USA   \n",
       "\n",
       "    CreatedOn                                           Headshot Loyalty Tier  \\\n",
       "0   3/14/2017  https://filestransfer.blob.core.windows.net/de...         high   \n",
       "1  12/23/2018  https://filestransfer.blob.core.windows.net/de...       medium   \n",
       "2   1/14/2019  https://filestransfer.blob.core.windows.net/de...       medium   \n",
       "3   1/17/2019  https://filestransfer.blob.core.windows.net/de...       medium   \n",
       "4   1/20/2019  https://filestransfer.blob.core.windows.net/de...       medium   \n",
       "\n",
       "  Email Subscriber        Income         Occupation CustomerSatisfaction  \n",
       "0              Yes  256414.11270  Software Engineer                 high  \n",
       "1              Yes   46732.46729            Teacher                 high  \n",
       "2              Yes   20000.00000            Teacher                 high  \n",
       "3               No   61917.70614            Teacher               medium  \n",
       "4               No   20000.00000            Teacher               medium  "
      ]
     },
     "execution_count": 8,
     "metadata": {},
     "output_type": "execute_result"
    }
   ],
   "source": [
    "data1.head()"
   ]
  },
  {
   "cell_type": "code",
   "execution_count": 9,
   "id": "18f97cb4",
   "metadata": {},
   "outputs": [
    {
     "data": {
      "text/html": [
       "<div>\n",
       "<style scoped>\n",
       "    .dataframe tbody tr th:only-of-type {\n",
       "        vertical-align: middle;\n",
       "    }\n",
       "\n",
       "    .dataframe tbody tr th {\n",
       "        vertical-align: top;\n",
       "    }\n",
       "\n",
       "    .dataframe thead th {\n",
       "        text-align: right;\n",
       "    }\n",
       "</style>\n",
       "<table border=\"1\" class=\"dataframe\">\n",
       "  <thead>\n",
       "    <tr style=\"text-align: right;\">\n",
       "      <th></th>\n",
       "      <th>RewardPoints</th>\n",
       "    </tr>\n",
       "  </thead>\n",
       "  <tbody>\n",
       "    <tr>\n",
       "      <th>count</th>\n",
       "      <td>5002.000000</td>\n",
       "    </tr>\n",
       "    <tr>\n",
       "      <th>mean</th>\n",
       "      <td>155.510396</td>\n",
       "    </tr>\n",
       "    <tr>\n",
       "      <th>std</th>\n",
       "      <td>82.902366</td>\n",
       "    </tr>\n",
       "    <tr>\n",
       "      <th>min</th>\n",
       "      <td>10.000000</td>\n",
       "    </tr>\n",
       "    <tr>\n",
       "      <th>25%</th>\n",
       "      <td>84.000000</td>\n",
       "    </tr>\n",
       "    <tr>\n",
       "      <th>50%</th>\n",
       "      <td>155.000000</td>\n",
       "    </tr>\n",
       "    <tr>\n",
       "      <th>75%</th>\n",
       "      <td>227.000000</td>\n",
       "    </tr>\n",
       "    <tr>\n",
       "      <th>max</th>\n",
       "      <td>355.000000</td>\n",
       "    </tr>\n",
       "  </tbody>\n",
       "</table>\n",
       "</div>"
      ],
      "text/plain": [
       "       RewardPoints\n",
       "count   5002.000000\n",
       "mean     155.510396\n",
       "std       82.902366\n",
       "min       10.000000\n",
       "25%       84.000000\n",
       "50%      155.000000\n",
       "75%      227.000000\n",
       "max      355.000000"
      ]
     },
     "execution_count": 9,
     "metadata": {},
     "output_type": "execute_result"
    }
   ],
   "source": [
    "data.describe()"
   ]
  },
  {
   "cell_type": "code",
   "execution_count": 10,
   "id": "536b4241",
   "metadata": {},
   "outputs": [
    {
     "data": {
      "text/html": [
       "<div>\n",
       "<style scoped>\n",
       "    .dataframe tbody tr th:only-of-type {\n",
       "        vertical-align: middle;\n",
       "    }\n",
       "\n",
       "    .dataframe tbody tr th {\n",
       "        vertical-align: top;\n",
       "    }\n",
       "\n",
       "    .dataframe thead th {\n",
       "        text-align: right;\n",
       "    }\n",
       "</style>\n",
       "<table border=\"1\" class=\"dataframe\">\n",
       "  <thead>\n",
       "    <tr style=\"text-align: right;\">\n",
       "      <th></th>\n",
       "      <th>Income</th>\n",
       "    </tr>\n",
       "  </thead>\n",
       "  <tbody>\n",
       "    <tr>\n",
       "      <th>count</th>\n",
       "      <td>5002.000000</td>\n",
       "    </tr>\n",
       "    <tr>\n",
       "      <th>mean</th>\n",
       "      <td>82758.917928</td>\n",
       "    </tr>\n",
       "    <tr>\n",
       "      <th>std</th>\n",
       "      <td>56489.975951</td>\n",
       "    </tr>\n",
       "    <tr>\n",
       "      <th>min</th>\n",
       "      <td>20000.000000</td>\n",
       "    </tr>\n",
       "    <tr>\n",
       "      <th>25%</th>\n",
       "      <td>38212.874290</td>\n",
       "    </tr>\n",
       "    <tr>\n",
       "      <th>50%</th>\n",
       "      <td>74000.290590</td>\n",
       "    </tr>\n",
       "    <tr>\n",
       "      <th>75%</th>\n",
       "      <td>111236.581125</td>\n",
       "    </tr>\n",
       "    <tr>\n",
       "      <th>max</th>\n",
       "      <td>419076.115900</td>\n",
       "    </tr>\n",
       "  </tbody>\n",
       "</table>\n",
       "</div>"
      ],
      "text/plain": [
       "              Income\n",
       "count    5002.000000\n",
       "mean    82758.917928\n",
       "std     56489.975951\n",
       "min     20000.000000\n",
       "25%     38212.874290\n",
       "50%     74000.290590\n",
       "75%    111236.581125\n",
       "max    419076.115900"
      ]
     },
     "execution_count": 10,
     "metadata": {},
     "output_type": "execute_result"
    }
   ],
   "source": [
    "data1.describe()"
   ]
  },
  {
   "cell_type": "code",
   "execution_count": 11,
   "id": "1b004248",
   "metadata": {},
   "outputs": [
    {
     "data": {
      "text/plain": [
       "(5002, 12)"
      ]
     },
     "execution_count": 11,
     "metadata": {},
     "output_type": "execute_result"
    }
   ],
   "source": [
    "data.shape"
   ]
  },
  {
   "cell_type": "code",
   "execution_count": 12,
   "id": "9c909a2b",
   "metadata": {},
   "outputs": [
    {
     "data": {
      "text/plain": [
       "(5002, 20)"
      ]
     },
     "execution_count": 12,
     "metadata": {},
     "output_type": "execute_result"
    }
   ],
   "source": [
    "data1.shape"
   ]
  },
  {
   "cell_type": "code",
   "execution_count": 16,
   "id": "6cabd5ab",
   "metadata": {},
   "outputs": [
    {
     "data": {
      "text/plain": [
       "0       256414.11270\n",
       "1        46732.46729\n",
       "2        20000.00000\n",
       "3        61917.70614\n",
       "4        20000.00000\n",
       "            ...     \n",
       "4997     20000.00000\n",
       "4998     38995.56332\n",
       "4999     21566.98022\n",
       "5000     46254.29239\n",
       "5001     20000.00000\n",
       "Name: Income, Length: 5002, dtype: float64"
      ]
     },
     "execution_count": 16,
     "metadata": {},
     "output_type": "execute_result"
    }
   ],
   "source": [
    "data1.Income"
   ]
  },
  {
   "cell_type": "code",
   "execution_count": 17,
   "id": "30928167",
   "metadata": {},
   "outputs": [
    {
     "data": {
      "text/plain": [
       "0"
      ]
     },
     "execution_count": 17,
     "metadata": {},
     "output_type": "execute_result"
    }
   ],
   "source": [
    "sum(data1.Income=='')"
   ]
  },
  {
   "cell_type": "code",
   "execution_count": 19,
   "id": "a1a4007e",
   "metadata": {},
   "outputs": [
    {
     "data": {
      "text/plain": [
       "Teacher               2597\n",
       "Software Engineer     2192\n",
       "Student                117\n",
       "Investment Banking      76\n",
       "Doctor                  20\n",
       "Name: Occupation, dtype: int64"
      ]
     },
     "execution_count": 19,
     "metadata": {},
     "output_type": "execute_result"
    }
   ],
   "source": [
    "data1['Occupation'].value_counts()"
   ]
  },
  {
   "cell_type": "code",
   "execution_count": 20,
   "id": "37f106ca",
   "metadata": {},
   "outputs": [
    {
     "data": {
      "text/plain": [
       "0       Software Engineer\n",
       "1                 Teacher\n",
       "2                 Teacher\n",
       "3                 Teacher\n",
       "4                 Teacher\n",
       "              ...        \n",
       "4997              Teacher\n",
       "4998              Teacher\n",
       "4999              Teacher\n",
       "5000              Teacher\n",
       "5001              Teacher\n",
       "Name: Occupation, Length: 5002, dtype: object"
      ]
     },
     "execution_count": 20,
     "metadata": {},
     "output_type": "execute_result"
    }
   ],
   "source": [
    "data1['Occupation'].fillna('Uknown data')"
   ]
  },
  {
   "cell_type": "code",
   "execution_count": 21,
   "id": "2910b71c",
   "metadata": {},
   "outputs": [
    {
     "name": "stdout",
     "output_type": "stream",
     "text": [
      "<class 'pandas.core.frame.DataFrame'>\n",
      "RangeIndex: 5002 entries, 0 to 5001\n",
      "Data columns (total 12 columns):\n",
      " #   Column        Non-Null Count  Dtype \n",
      "---  ------        --------------  ----- \n",
      " 0   LoyaltyId     5002 non-null   object\n",
      " 1   ContactId     5002 non-null   object\n",
      " 2   FirstName     5002 non-null   object\n",
      " 3   LastName      5002 non-null   object\n",
      " 4   FullName      5002 non-null   object\n",
      " 5   DateOfBirth   5002 non-null   object\n",
      " 6   Gender        5002 non-null   object\n",
      " 7   EMail         5002 non-null   object\n",
      " 8   Telephone     5000 non-null   object\n",
      " 9   RewardPoints  5002 non-null   int64 \n",
      " 10  CreditCard    5002 non-null   object\n",
      " 11  CreatedOn     5002 non-null   object\n",
      "dtypes: int64(1), object(11)\n",
      "memory usage: 469.1+ KB\n"
     ]
    }
   ],
   "source": [
    "data.info()"
   ]
  },
  {
   "cell_type": "code",
   "execution_count": 22,
   "id": "b0553212",
   "metadata": {},
   "outputs": [
    {
     "name": "stdout",
     "output_type": "stream",
     "text": [
      "<class 'pandas.core.frame.DataFrame'>\n",
      "RangeIndex: 5002 entries, 0 to 5001\n",
      "Data columns (total 20 columns):\n",
      " #   Column                Non-Null Count  Dtype  \n",
      "---  ------                --------------  -----  \n",
      " 0   ContactId             5002 non-null   object \n",
      " 1   FirstName             5002 non-null   object \n",
      " 2   LastName              5002 non-null   object \n",
      " 3   FullName              5002 non-null   object \n",
      " 4   DateOfBirth           5001 non-null   object \n",
      " 5   Gender                5002 non-null   object \n",
      " 6   EMail                 5002 non-null   object \n",
      " 7   Telephone             5002 non-null   object \n",
      " 8   PostCode              5002 non-null   object \n",
      " 9   StreetAddress         5002 non-null   object \n",
      " 10  City                  5002 non-null   object \n",
      " 11  State                 5002 non-null   object \n",
      " 12  Country               5002 non-null   object \n",
      " 13  CreatedOn             5002 non-null   object \n",
      " 14  Headshot              5002 non-null   object \n",
      " 15  Loyalty Tier          5002 non-null   object \n",
      " 16  Email Subscriber      5002 non-null   object \n",
      " 17  Income                5002 non-null   float64\n",
      " 18  Occupation            5002 non-null   object \n",
      " 19  CustomerSatisfaction  5002 non-null   object \n",
      "dtypes: float64(1), object(19)\n",
      "memory usage: 781.7+ KB\n"
     ]
    }
   ],
   "source": [
    "data1.info()"
   ]
  },
  {
   "cell_type": "code",
   "execution_count": null,
   "id": "7ebcb040",
   "metadata": {},
   "outputs": [],
   "source": []
  }
 ],
 "metadata": {
  "kernelspec": {
   "display_name": "Python 3 (ipykernel)",
   "language": "python",
   "name": "python3"
  },
  "language_info": {
   "codemirror_mode": {
    "name": "ipython",
    "version": 3
   },
   "file_extension": ".py",
   "mimetype": "text/x-python",
   "name": "python",
   "nbconvert_exporter": "python",
   "pygments_lexer": "ipython3",
   "version": "3.7.13"
  }
 },
 "nbformat": 4,
 "nbformat_minor": 5
}
