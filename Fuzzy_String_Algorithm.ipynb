{
  "nbformat": 4,
  "nbformat_minor": 0,
  "metadata": {
    "colab": {
      "provenance": [],
      "authorship_tag": "ABX9TyNCKV/lt3DTN+6wub+98mMT",
      "include_colab_link": true
    },
    "kernelspec": {
      "name": "python3",
      "display_name": "Python 3"
    },
    "language_info": {
      "name": "python"
    }
  },
  "cells": [
    {
      "cell_type": "markdown",
      "metadata": {
        "id": "view-in-github",
        "colab_type": "text"
      },
      "source": [
        "<a href=\"https://colab.research.google.com/github/rohanjarun/Sonata_Test/blob/main/Fuzzy_String_Algorithm.ipynb\" target=\"_parent\"><img src=\"https://colab.research.google.com/assets/colab-badge.svg\" alt=\"Open In Colab\"/></a>"
      ]
    },
    {
      "cell_type": "code",
      "execution_count": 8,
      "metadata": {
        "colab": {
          "base_uri": "https://localhost:8080/"
        },
        "id": "V_AyLUfhZEVV",
        "outputId": "4d53899d-871e-4118-e70d-884afca77084"
      },
      "outputs": [
        {
          "output_type": "stream",
          "name": "stderr",
          "text": [
            "/usr/local/lib/python3.10/dist-packages/fuzzywuzzy/fuzz.py:11: UserWarning: Using slow pure-python SequenceMatcher. Install python-Levenshtein to remove this warning\n",
            "  warnings.warn('Using slow pure-python SequenceMatcher. Install python-Levenshtein to remove this warning')\n"
          ]
        }
      ],
      "source": [
        "import csv\n",
        "from fuzzywuzzy import fuzz"
      ]
    },
    {
      "cell_type": "code",
      "source": [
        "def calculate_similarity(email1, email2):\n",
        "    similarity = fuzz.ratio(email1, email2)\n",
        "    return similarity * 100\n",
        "\n",
        "def main():\n",
        "    with open('Contacts.csv', 'r') as csvfile1:\n",
        "        reader1 = csv.reader(csvfile1, delimiter=',')\n",
        "        emails1 = []\n",
        "        for row in reader1:\n",
        "            emails1.append(row[0])\n",
        "\n",
        "    with open('Loyalty Customers.csv', 'r') as csvfile2:\n",
        "        reader2 = csv.reader(csvfile2, delimiter=',')\n",
        "        emails2 = []\n",
        "        for row in reader2:\n",
        "            emails2.append(row[0])\n",
        "\n",
        "    similarities = []\n",
        "    for email1 in emails1:\n",
        "        for email2 in emails2:\n",
        "            similarity = calculate_similarity(email1, email2)\n",
        "            similarities.append(similarity)\n",
        "\n",
        "    print('The average similarity percentage is:', sum(similarities) / len(similarities))\n",
        "\n",
        "if __name__ == '__main__':\n",
        "    main()"
      ],
      "metadata": {
        "colab": {
          "base_uri": "https://localhost:8080/"
        },
        "id": "HoOYVnsIZHdX",
        "outputId": "74045134-e6ee-4eba-c9b8-1c13ad50b756"
      },
      "execution_count": 10,
      "outputs": [
        {
          "output_type": "stream",
          "name": "stdout",
          "text": [
            "The average similarity percentage is: 4103.027338104433\n"
          ]
        }
      ]
    }
  ]
}